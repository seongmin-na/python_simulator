{
 "cells": [
  {
   "cell_type": "code",
   "execution_count": 99,
   "metadata": {},
   "outputs": [],
   "source": [
    "import pandas as pd\n",
    "import subprocess\n",
    "import math\n",
    "import numpy as np\n",
    "import sys\n",
    "import matplotlib as mpl\n",
    "import matplotlib.pyplot as plt\n",
    "import itertools\n"
   ]
  },
  {
   "cell_type": "code",
   "execution_count": 213,
   "metadata": {},
   "outputs": [],
   "source": [
    "translate_table={1:\"act\",2:\"mul\",3:\"add\", 4:\"element-sum\", 5:\"sqrt\", 6:\"vec\"}\n",
    "GELU= [3,2,2,3,2,1,3,2,2]\n",
    "Layer_norm= [3,3,4,2,3,3,2,4,2,5,6,2,3]\n",
    "Score_cal=[3,2,2,1,4,6,2]"
   ]
  },
  {
   "cell_type": "code",
   "execution_count": 214,
   "metadata": {},
   "outputs": [],
   "source": [
    "def MFU_chain(num_MFU=2,MFU_order=[1,2,3,4,5,6],vector_op_dict={}):\n",
    "    #print(vector_op_dict)\n",
    "    result=dict()\n",
    "    total_chain=0\n",
    "    for key, value in vector_op_dict.items():\n",
    "        vector_op=value\n",
    "        MFU_unit_idx=0\n",
    "        MFU_idx=0\n",
    "        chain_idx=1\n",
    "        #print(vector_op)\n",
    "        for i in range(len(vector_op)):\n",
    "            next_op=vector_op[i]\n",
    "            if(MFU_unit_idx<MFU_order[next_op-1]):\n",
    "                MFU_unit_idx=MFU_order[next_op-1]\n",
    "                #print(\"chain idx:\",chain_idx,\" MFU_idx\",MFU_idx, \"-\",MFU_unit_idx,\":\",translate_table[next_op])\n",
    "            else:\n",
    "                MFU_idx=MFU_idx+1\n",
    "                MFU_unit_idx=next_op\n",
    "                if(MFU_idx==num_MFU):\n",
    "                    chain_idx=chain_idx+1\n",
    "                    MFU_idx=0\n",
    "                #print(\"chain idx:\",chain_idx,\" MFU_idx\",MFU_idx, \"-\",MFU_unit_idx,\":\",translate_table[next_op])\n",
    "        result[key]=chain_idx\n",
    "        total_chain=chain_idx+total_chain\n",
    "        #print(key,\":\",chain_idx)\n",
    "        \n",
    "    return result,total_chain"
   ]
  },
  {
   "cell_type": "code",
   "execution_count": 215,
   "metadata": {},
   "outputs": [],
   "source": [
    "def print_MFU_chain(num_MFU=2,MFU_order=[1,2,3,4,5,6],vector_op_dict={}):\n",
    "    print(\"MFU unit order\")\n",
    "    for i in range(len(MFU_order)):\n",
    "        for j in range(len(MFU_order)):\n",
    "            if(i==MFU_order[j]):\n",
    "                print(translate_table[MFU_order[j]])\n",
    "    result=dict()\n",
    "    total_chain=0\n",
    "    for key, value in vector_op_dict.items():\n",
    "        vector_op=value\n",
    "        MFU_unit_idx=0\n",
    "        MFU_idx=0\n",
    "        chain_idx=1\n",
    "        print(key, \"start\")\n",
    "        for i in range(len(vector_op)):\n",
    "            next_op=vector_op[i]\n",
    "            if(MFU_unit_idx<MFU_order[next_op-1]):\n",
    "                MFU_unit_idx=MFU_order[next_op-1]\n",
    "                print(\"chain idx:\",chain_idx,\" MFU_idx:\",MFU_idx, \"-\",translate_table[next_op])\n",
    "            else:\n",
    "                MFU_idx=MFU_idx+1\n",
    "                MFU_unit_idx=next_op\n",
    "                if(MFU_idx==num_MFU):\n",
    "                    chain_idx=chain_idx+1\n",
    "                    MFU_idx=0\n",
    "                print(\"chain idx:\",chain_idx,\" MFU_idx\",MFU_idx, \"-\",translate_table[next_op])\n",
    "        result[key]=chain_idx\n",
    "        total_chain=chain_idx+total_chain\n",
    "        print(key,\" end\")\n",
    "        #print(key,\":\",chain_idx)\n",
    "        \n",
    "    return result,total_chain"
   ]
  },
  {
   "cell_type": "code",
   "execution_count": 216,
   "metadata": {},
   "outputs": [],
   "source": [
    "def find_optimal_order(num_MFU=2):\n",
    "    min_chain=1000000\n",
    "    min_chain_list=[]\n",
    "    permutation_list=list(itertools.permutations([1, 2, 3,4]))\n",
    "    for permutation in permutation_list:\n",
    "        MFU_order_table=np.array(permutation+(5,6))\n",
    "        result,total_chain=MFU_chain(num_MFU,MFU_order_table,vector_op_dict)\n",
    "        if(total_chain==min_chain):\n",
    "            print(MFU_order_table)\n",
    "            print (result)\n",
    "        elif(total_chain<min_chain):\n",
    "            print(MFU_order_table)\n",
    "            print (result)\n",
    "            min_chain=total_chain\n",
    "            #calculate total MFU chaint"
   ]
  },
  {
   "cell_type": "code",
   "execution_count": 217,
   "metadata": {},
   "outputs": [
    {
     "name": "stdout",
     "output_type": "stream",
     "text": [
      "[1 2 3 4 5 6]\n",
      "{'Layer_norm': 3, 'GELU': 3, 'Score_cal': 2}\n",
      "[1 2 4 3 5 6]\n",
      "{'Layer_norm': 3, 'GELU': 3, 'Score_cal': 2}\n",
      "[1 3 2 4 5 6]\n",
      "{'Layer_norm': 3, 'GELU': 2, 'Score_cal': 2}\n",
      "[1 3 4 2 5 6]\n",
      "{'Layer_norm': 3, 'GELU': 2, 'Score_cal': 2}\n",
      "[1 4 3 2 5 6]\n",
      "{'Layer_norm': 3, 'GELU': 2, 'Score_cal': 2}\n",
      "[2 3 4 1 5 6]\n",
      "{'Layer_norm': 3, 'GELU': 2, 'Score_cal': 2}\n",
      "[2 4 3 1 5 6]\n",
      "{'Layer_norm': 3, 'GELU': 2, 'Score_cal': 2}\n",
      "[3 1 4 2 5 6]\n",
      "{'Layer_norm': 3, 'GELU': 2, 'Score_cal': 2}\n",
      "[3 2 1 4 5 6]\n",
      "{'Layer_norm': 3, 'GELU': 3, 'Score_cal': 1}\n",
      "[3 2 4 1 5 6]\n",
      "{'Layer_norm': 3, 'GELU': 2, 'Score_cal': 2}\n"
     ]
    }
   ],
   "source": [
    "vector_op_dict={\"GELU\":[3,2,2,3,2,1,3,2,2],\"Layer_norm\":[3,3,4,2,3,3,2,4,2,5,6,2,3],\"Score_cal\":[3,2,2,1,4,6,2]}\n",
    "find_optimal_order(num_MFU=3)"
   ]
  },
  {
   "cell_type": "code",
   "execution_count": 218,
   "metadata": {},
   "outputs": [
    {
     "name": "stdout",
     "output_type": "stream",
     "text": [
      "MFU unit order\n",
      "act\n",
      "mul\n",
      "add\n",
      "element-sum\n",
      "sqrt\n",
      "Layer_norm start\n",
      "chain idx: 1  MFU_idx: 0 - add\n",
      "chain idx: 1  MFU_idx 1 - add\n",
      "chain idx: 1  MFU_idx: 1 - element-sum\n",
      "chain idx: 1  MFU_idx 2 - mul\n",
      "chain idx: 1  MFU_idx: 2 - add\n",
      "chain idx: 2  MFU_idx 0 - add\n",
      "chain idx: 2  MFU_idx 1 - mul\n",
      "chain idx: 2  MFU_idx: 1 - element-sum\n",
      "chain idx: 2  MFU_idx 2 - mul\n",
      "chain idx: 2  MFU_idx: 2 - sqrt\n",
      "chain idx: 2  MFU_idx: 2 - vec\n",
      "chain idx: 3  MFU_idx 0 - mul\n",
      "chain idx: 3  MFU_idx: 0 - add\n",
      "Layer_norm  end\n",
      "GELU start\n",
      "chain idx: 1  MFU_idx: 0 - add\n",
      "chain idx: 1  MFU_idx 1 - mul\n",
      "chain idx: 1  MFU_idx 2 - mul\n",
      "chain idx: 1  MFU_idx: 2 - add\n",
      "chain idx: 2  MFU_idx 0 - mul\n",
      "chain idx: 2  MFU_idx 1 - act\n",
      "chain idx: 2  MFU_idx: 1 - add\n",
      "chain idx: 2  MFU_idx 2 - mul\n",
      "chain idx: 3  MFU_idx 0 - mul\n",
      "GELU  end\n",
      "Score_cal start\n",
      "chain idx: 1  MFU_idx: 0 - add\n",
      "chain idx: 1  MFU_idx 1 - mul\n",
      "chain idx: 1  MFU_idx 2 - mul\n",
      "chain idx: 2  MFU_idx 0 - act\n",
      "chain idx: 2  MFU_idx: 0 - element-sum\n",
      "chain idx: 2  MFU_idx: 0 - vec\n",
      "chain idx: 2  MFU_idx 1 - mul\n",
      "Score_cal  end\n"
     ]
    },
    {
     "data": {
      "text/plain": [
       "({'GELU': 3, 'Layer_norm': 3, 'Score_cal': 2}, 8)"
      ]
     },
     "execution_count": 218,
     "metadata": {},
     "output_type": "execute_result"
    }
   ],
   "source": [
    "print_MFU_chain(3,[1,2,3,4,5,6],vector_op_dict)"
   ]
  },
  {
   "cell_type": "code",
   "execution_count": null,
   "metadata": {},
   "outputs": [],
   "source": []
  },
  {
   "cell_type": "code",
   "execution_count": null,
   "metadata": {},
   "outputs": [],
   "source": []
  }
 ],
 "metadata": {
  "kernelspec": {
   "display_name": "Python 3",
   "language": "python",
   "name": "python3"
  },
  "language_info": {
   "codemirror_mode": {
    "name": "ipython",
    "version": 3
   },
   "file_extension": ".py",
   "mimetype": "text/x-python",
   "name": "python",
   "nbconvert_exporter": "python",
   "pygments_lexer": "ipython3",
   "version": "3.5.2"
  }
 },
 "nbformat": 4,
 "nbformat_minor": 2
}
