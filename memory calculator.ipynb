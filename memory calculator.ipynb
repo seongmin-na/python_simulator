{
 "cells": [
  {
   "cell_type": "code",
   "execution_count": 241,
   "metadata": {},
   "outputs": [],
   "source": [
    "import pandas as pd\n",
    "import subprocess\n",
    "import math\n",
    "import numpy as np\n",
    "import sys\n",
    "import matplotlib as mpl\n",
    "import matplotlib.pyplot as plt\n",
    "import itertools\n"
   ]
  },
  {
   "cell_type": "code",
   "execution_count": 1,
   "metadata": {},
   "outputs": [
    {
     "data": {
      "text/plain": [
       "'\\nReadMe\\n\\n'"
      ]
     },
     "execution_count": 1,
     "metadata": {},
     "output_type": "execute_result"
    }
   ],
   "source": [
    "\"\"\"\n",
    "ReadMe\n",
    "\n",
    "\"\"\"\n",
    " "
   ]
  },
  {
   "cell_type": "code",
   "execution_count": 1,
   "metadata": {},
   "outputs": [],
   "source": [
    "class Layer:\n",
    "    def __init__(self,isgemm,isbias,row,col,multi_head, Nseq):\n",
    "        self.isgemm=isgemm\n",
    "        self.isbias=isbias\n",
    "        self.row=row\n",
    "        self.col=col\n",
    "        self.multi_head=multi_head\n",
    "        self.Nseq=Nseq"
   ]
  },
  {
   "cell_type": "code",
   "execution_count": 2,
   "metadata": {},
   "outputs": [],
   "source": [
    "#input_feature=(row,col,multi_head,Nseq)\n",
    "#DPE_feature=(DPE,Lane,Tile)\n",
    "Qgen=Layer(isgemm=True, isbias=True, row=1024,col=64,multi_head=16,Nseq=128)\n",
    "Kgen=Layer(isgemm=True, isbias=True, row=1024,col=64,multi_head=16,Nseq=128)\n",
    "Scorecal=Layer(isgemm=True, isbias=False, row=64,col=128,multi_head=16,Nseq=128)\n",
    "Softmax=Layer(isgemm=False, isbias=False, row=10,col=10,multi_head=16,Nseq=128)  ##fix\n",
    "Vgen=Layer(isgemm=True, isbias=True, row=1024,col=64,multi_head=16,Nseq=128) \n",
    "Weight_sum=Layer(isgemm=True, isbias=False, row=128,col=64,multi_head=16,Nseq=128)\n",
    "attention_fc=Layer(isgemm=True, isbias=True, row=1024,col=1024,multi_head=1,Nseq=128)##fix\n",
    "add_norm1=Layer(isgemm=False, isbias=False,row=1024,col=1,multi_head=1,Nseq=128)\n",
    "FC1=Layer(isgemm=True, isbias=True, row=1024,col=4096,multi_head=1,Nseq=128) ##fix\n",
    "GELU=Layer(isgemm=False, isbias=False, row=4096,col=0,multi_head=1,Nseq=128)\n",
    "FC2=Layer(isgemm=True, isbias=True, row=4096,col=1024,multi_head=1,Nseq=128)\n",
    "add_norm2=Layer(isgemm=True, isbias=True, row=1024,col=0,multi_head=1,Nseq=128)"
   ]
  },
  {
   "cell_type": "code",
   "execution_count": null,
   "metadata": {},
   "outputs": [],
   "source": []
  },
  {
   "cell_type": "code",
   "execution_count": 239,
   "metadata": {},
   "outputs": [],
   "source": [
    "def cal_cycle(workload=Qgen,DPE_feature=(64,64,16),only_MFU=False):\n",
    "    data=workload\n",
    "    DPE=64\n",
    "    Lane=64\n",
    "    Tile=16\n",
    "    gemm_cycle=data.row/(Lane*Tile)\n",
    "    vector_cycle=DPE/Lane\n",
    "    max_cycle=math.ceil(max(gemm_cycle,vector_cycle))\n",
    "    if(data.isgemm==True):\n",
    "        if(data.isbias==True):\n",
    "            print(math.ceil(data.col/DPE)*data.Nseq*data.multi_head+DPE/Lane+7)\n",
    "        else:\n",
    "            #sholud fix\n",
    "             print(math.ceil(data.col/DPE)*data.Nseq*data.multi_head+DPE/Lane+7)\n",
    "    "
   ]
  },
  {
   "cell_type": "code",
   "execution_count": 240,
   "metadata": {},
   "outputs": [
    {
     "name": "stdout",
     "output_type": "stream",
     "text": [
      "2056.0\n"
     ]
    }
   ],
   "source": [
    "cal_cycle()"
   ]
  },
  {
   "cell_type": "code",
   "execution_count": null,
   "metadata": {},
   "outputs": [],
   "source": []
  },
  {
   "cell_type": "code",
   "execution_count": null,
   "metadata": {},
   "outputs": [],
   "source": []
  }
 ],
 "metadata": {
  "kernelspec": {
   "display_name": "Python 3",
   "language": "python",
   "name": "python3"
  },
  "language_info": {
   "codemirror_mode": {
    "name": "ipython",
    "version": 3
   },
   "file_extension": ".py",
   "mimetype": "text/x-python",
   "name": "python",
   "nbconvert_exporter": "python",
   "pygments_lexer": "ipython3",
   "version": "3.5.2"
  }
 },
 "nbformat": 4,
 "nbformat_minor": 2
}
